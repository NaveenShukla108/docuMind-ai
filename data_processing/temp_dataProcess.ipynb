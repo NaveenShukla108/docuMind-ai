{
 "cells": [
  {
   "cell_type": "code",
   "execution_count": 2,
   "id": "5f4514b3",
   "metadata": {},
   "outputs": [
    {
     "name": "stderr",
     "output_type": "stream",
     "text": [
      "c:\\Users\\Developer.MS_ANJANI_TRIPA.000\\OneDrive\\Desktop\\2.0\\.venv\\Lib\\site-packages\\tqdm\\auto.py:21: TqdmWarning: IProgress not found. Please update jupyter and ipywidgets. See https://ipywidgets.readthedocs.io/en/stable/user_install.html\n",
      "  from .autonotebook import tqdm as notebook_tqdm\n"
     ]
    },
    {
     "data": {
      "text/html": [
       "<div>\n",
       "<style scoped>\n",
       "    .dataframe tbody tr th:only-of-type {\n",
       "        vertical-align: middle;\n",
       "    }\n",
       "\n",
       "    .dataframe tbody tr th {\n",
       "        vertical-align: top;\n",
       "    }\n",
       "\n",
       "    .dataframe thead th {\n",
       "        text-align: right;\n",
       "    }\n",
       "</style>\n",
       "<table border=\"1\" class=\"dataframe\">\n",
       "  <thead>\n",
       "    <tr style=\"text-align: right;\">\n",
       "      <th></th>\n",
       "      <th>id</th>\n",
       "      <th>tokens</th>\n",
       "      <th>bboxes</th>\n",
       "      <th>ner_tags</th>\n",
       "      <th>image</th>\n",
       "    </tr>\n",
       "  </thead>\n",
       "  <tbody>\n",
       "    <tr>\n",
       "      <th>0</th>\n",
       "      <td>0</td>\n",
       "      <td>[R&amp;D, :, Suggestion:, Date:, Licensee, Yes, No...</td>\n",
       "      <td>[[383, 91, 493, 175], [287, 316, 295, 327], [1...</td>\n",
       "      <td>[0, 3, 3, 3, 5, 3, 3, 0, 1, 2, 2, 2, 2, 2, 3, ...</td>\n",
       "      <td>{'bytes': b'\\x89PNG\\r\\n\\x1a\\n\\x00\\x00\\x00\\rIHD...</td>\n",
       "    </tr>\n",
       "    <tr>\n",
       "      <th>1</th>\n",
       "      <td>1</td>\n",
       "      <td>[Brand:, Style:, PHOENIX, Company:, Country:, ...</td>\n",
       "      <td>[[99, 129, 154, 139], [95, 141, 156, 153], [19...</td>\n",
       "      <td>[3, 3, 5, 3, 3, 3, 5, 5, 1, 1, 3, 3, 3, 3, 5, ...</td>\n",
       "      <td>{'bytes': b'\\x89PNG\\r\\n\\x1a\\n\\x00\\x00\\x00\\rIHD...</td>\n",
       "    </tr>\n",
       "    <tr>\n",
       "      <th>2</th>\n",
       "      <td>2</td>\n",
       "      <td>[DATE:, INITIATED, BY:, COMPLETION, COUNTRY:, ...</td>\n",
       "      <td>[[80, 207, 127, 221], [80, 235, 169, 249], [17...</td>\n",
       "      <td>[3, 3, 3, 3, 3, 3, 5, 3, 3, 3, 0, 3, 1, 2, 2, ...</td>\n",
       "      <td>{'bytes': b'\\x89PNG\\r\\n\\x1a\\n\\x00\\x00\\x00\\rIHD...</td>\n",
       "    </tr>\n",
       "    <tr>\n",
       "      <th>3</th>\n",
       "      <td>3</td>\n",
       "      <td>[SUBJECT:, SAMPLE:, CIGARETTES:, TAR, 9.1, NIC...</td>\n",
       "      <td>[[78, 121, 166, 135], [77, 152, 154, 166], [74...</td>\n",
       "      <td>[3, 3, 3, 3, 5, 3, 5, 3, 5, 3, 5, 3, 3, 5, 5, ...</td>\n",
       "      <td>{'bytes': b'\\x89PNG\\r\\n\\x1a\\n\\x00\\x00\\x00\\rIHD...</td>\n",
       "    </tr>\n",
       "    <tr>\n",
       "      <th>4</th>\n",
       "      <td>4</td>\n",
       "      <td>[B&amp;W, WCC, 621800455, Reconstituted, Tobacco, ...</td>\n",
       "      <td>[[286, 71, 342, 89], [488, 366, 539, 380], [90...</td>\n",
       "      <td>[1, 5, 0, 0, 0, 0, 0, 0, 0, 3, 4, 1, 2, 2, 2, ...</td>\n",
       "      <td>{'bytes': b'\\x89PNG\\r\\n\\x1a\\n\\x00\\x00\\x00\\rIHD...</td>\n",
       "    </tr>\n",
       "  </tbody>\n",
       "</table>\n",
       "</div>"
      ],
      "text/plain": [
       "  id                                             tokens  \\\n",
       "0  0  [R&D, :, Suggestion:, Date:, Licensee, Yes, No...   \n",
       "1  1  [Brand:, Style:, PHOENIX, Company:, Country:, ...   \n",
       "2  2  [DATE:, INITIATED, BY:, COMPLETION, COUNTRY:, ...   \n",
       "3  3  [SUBJECT:, SAMPLE:, CIGARETTES:, TAR, 9.1, NIC...   \n",
       "4  4  [B&W, WCC, 621800455, Reconstituted, Tobacco, ...   \n",
       "\n",
       "                                              bboxes  \\\n",
       "0  [[383, 91, 493, 175], [287, 316, 295, 327], [1...   \n",
       "1  [[99, 129, 154, 139], [95, 141, 156, 153], [19...   \n",
       "2  [[80, 207, 127, 221], [80, 235, 169, 249], [17...   \n",
       "3  [[78, 121, 166, 135], [77, 152, 154, 166], [74...   \n",
       "4  [[286, 71, 342, 89], [488, 366, 539, 380], [90...   \n",
       "\n",
       "                                            ner_tags  \\\n",
       "0  [0, 3, 3, 3, 5, 3, 3, 0, 1, 2, 2, 2, 2, 2, 3, ...   \n",
       "1  [3, 3, 5, 3, 3, 3, 5, 5, 1, 1, 3, 3, 3, 3, 5, ...   \n",
       "2  [3, 3, 3, 3, 3, 3, 5, 3, 3, 3, 0, 3, 1, 2, 2, ...   \n",
       "3  [3, 3, 3, 3, 5, 3, 5, 3, 5, 3, 5, 3, 3, 5, 5, ...   \n",
       "4  [1, 5, 0, 0, 0, 0, 0, 0, 0, 3, 4, 1, 2, 2, 2, ...   \n",
       "\n",
       "                                               image  \n",
       "0  {'bytes': b'\\x89PNG\\r\\n\\x1a\\n\\x00\\x00\\x00\\rIHD...  \n",
       "1  {'bytes': b'\\x89PNG\\r\\n\\x1a\\n\\x00\\x00\\x00\\rIHD...  \n",
       "2  {'bytes': b'\\x89PNG\\r\\n\\x1a\\n\\x00\\x00\\x00\\rIHD...  \n",
       "3  {'bytes': b'\\x89PNG\\r\\n\\x1a\\n\\x00\\x00\\x00\\rIHD...  \n",
       "4  {'bytes': b'\\x89PNG\\r\\n\\x1a\\n\\x00\\x00\\x00\\rIHD...  "
      ]
     },
     "execution_count": 2,
     "metadata": {},
     "output_type": "execute_result"
    }
   ],
   "source": [
    "from datasets import load_dataset\n",
    "\n",
    "dataset = load_dataset(\"nielsr/funsd-layoutlmv3\", split=\"train\")\n",
    "df = dataset.to_pandas()\n",
    "\n",
    "df.head()"
   ]
  },
  {
   "cell_type": "code",
   "execution_count": 14,
   "id": "4b74bee1",
   "metadata": {},
   "outputs": [
    {
     "data": {
      "text/plain": [
       "0    {'bytes': b'\\x89PNG\\r\\n\\x1a\\n\\x00\\x00\\x00\\rIHD...\n",
       "1    {'bytes': b'\\x89PNG\\r\\n\\x1a\\n\\x00\\x00\\x00\\rIHD...\n",
       "2    {'bytes': b'\\x89PNG\\r\\n\\x1a\\n\\x00\\x00\\x00\\rIHD...\n",
       "3    {'bytes': b'\\x89PNG\\r\\n\\x1a\\n\\x00\\x00\\x00\\rIHD...\n",
       "4    {'bytes': b'\\x89PNG\\r\\n\\x1a\\n\\x00\\x00\\x00\\rIHD...\n",
       "5    {'bytes': b'\\x89PNG\\r\\n\\x1a\\n\\x00\\x00\\x00\\rIHD...\n",
       "6    {'bytes': b'\\x89PNG\\r\\n\\x1a\\n\\x00\\x00\\x00\\rIHD...\n",
       "7    {'bytes': b'\\x89PNG\\r\\n\\x1a\\n\\x00\\x00\\x00\\rIHD...\n",
       "8    {'bytes': b'\\x89PNG\\r\\n\\x1a\\n\\x00\\x00\\x00\\rIHD...\n",
       "9    {'bytes': b'\\x89PNG\\r\\n\\x1a\\n\\x00\\x00\\x00\\rIHD...\n",
       "Name: image, dtype: object"
      ]
     },
     "execution_count": 14,
     "metadata": {},
     "output_type": "execute_result"
    }
   ],
   "source": [
    "df.columns.to_list()\n",
    "df.image[:10]"
   ]
  },
  {
   "cell_type": "code",
   "execution_count": 12,
   "id": "0d005b69",
   "metadata": {},
   "outputs": [],
   "source": [
    "from PIL import Image\n",
    "import io\n",
    "\n",
    "image_bytes = df.image[6]['bytes']\n",
    "image = Image.open(io.BytesIO(image_bytes))\n",
    "image.show()"
   ]
  },
  {
   "cell_type": "code",
   "execution_count": null,
   "id": "26ba0059",
   "metadata": {},
   "outputs": [],
   "source": [
    "# df.to_pickle(\"funsd_top.pkl\")\n",
    "import base64\n",
    "import pandas as pd\n",
    "\n",
    "df = pd.read_pickle(\"funsd_top.pkl\")\n",
    "\n",
    "# Convert image bytes to base64 string (just for top 10 to keep it small)\n",
    "df[\"image_base64\"] = df[\"image\"].apply(lambda x: base64.b64encode(x[\"bytes\"]).decode('utf-8'))\n",
    "df[[\"id\", \"image_base64\"]].head(10).to_json(\"funsd_top10.json\", orient=\"records\", lines=True)\n"
   ]
  }
 ],
 "metadata": {
  "kernelspec": {
   "display_name": ".venv",
   "language": "python",
   "name": "python3"
  },
  "language_info": {
   "codemirror_mode": {
    "name": "ipython",
    "version": 3
   },
   "file_extension": ".py",
   "mimetype": "text/x-python",
   "name": "python",
   "nbconvert_exporter": "python",
   "pygments_lexer": "ipython3",
   "version": "3.13.3"
  }
 },
 "nbformat": 4,
 "nbformat_minor": 5
}
